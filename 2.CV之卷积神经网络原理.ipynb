{
 "cells": [
  {
   "cell_type": "markdown",
   "metadata": {},
   "source": [
    "### 大纲\n",
    "\n",
    "* 卷积神经网络基础知识概念"
   ]
  },
  {
   "cell_type": "markdown",
   "metadata": {},
   "source": [
    "### 卷积神经网络基础知识概念\n",
    "\n",
    "* 输入层\n",
    "* 卷积层\n",
    "* 激活层\n",
    "* 池化层,全局池化层\n",
    "* 输出层\n",
    "\n",
    "* stride:滑动步长\n",
    "* pad: 垫\n",
    "* 经过一次卷积后图片元素的个数： (变长 - 卷积核的大小 + 2pad )/stride + 1"
   ]
  },
  {
   "cell_type": "markdown",
   "metadata": {},
   "source": [
    "* 特征提取： 所有卷积层做的内容是特征提取"
   ]
  },
  {
   "cell_type": "markdown",
   "metadata": {},
   "source": [
    "### 经典卷积模型：\n",
    "\n",
    "* AlexNet\n",
    "* GoogleNet\n",
    "* VGGNet\n",
    "* ResNet"
   ]
  },
  {
   "cell_type": "markdown",
   "metadata": {},
   "source": [
    "### fine turn 套路：\n",
    "* 固定住其它层，柱层放开训练网络\n"
   ]
  },
  {
   "cell_type": "markdown",
   "metadata": {
    "collapsed": true
   },
   "source": [
    "### 感受野\n",
    "\n",
    "* 定义 : 某层特征对应原图大小\n",
    "\n"
   ]
  }
 ],
 "metadata": {
  "kernelspec": {
   "display_name": "Python 3",
   "language": "python",
   "name": "python3"
  },
  "language_info": {
   "codemirror_mode": {
    "name": "ipython",
    "version": 3
   },
   "file_extension": ".py",
   "mimetype": "text/x-python",
   "name": "python",
   "nbconvert_exporter": "python",
   "pygments_lexer": "ipython3",
   "version": "3.6.7"
  }
 },
 "nbformat": 4,
 "nbformat_minor": 2
}
